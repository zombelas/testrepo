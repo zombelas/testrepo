{
 "cells": [
  {
   "cell_type": "markdown",
   "metadata": {},
   "source": [
    "<center>\n",
    "    <img src=\"https://cf-courses-data.s3.us.cloud-object-storage.appdomain.cloud/IBMDeveloperSkillsNetwork-DS0105EN-SkillsNetwork/labs/Module2/images/SN_web_lightmode.png\" width=\"300\" alt=\"cognitiveclass.ai logo\">\n",
    "</center>\n"
   ]
  },
  {
   "cell_type": "markdown",
   "metadata": {},
   "source": [
    "#### Add your code below following the instructions given in the course\n"
   ]
  },
  {
   "cell_type": "markdown",
   "metadata": {},
   "source": [
    "## Author \n",
    "Javier Lazaro"
   ]
  },
  {
   "cell_type": "markdown",
   "metadata": {},
   "source": [
    "# Data Science Tools and Ecosystem"
   ]
  },
  {
   "cell_type": "markdown",
   "metadata": {},
   "source": [
    "In this notebook, Data Science Tools and Ecosystem are summarized."
   ]
  },
  {
   "cell_type": "markdown",
   "metadata": {},
   "source": [
    "**Objectives:**\n",
    "\n",
    "- List popular languages for Data Science\n",
    "- Identify commonly used data science libraries\n",
    "- Demonstrate arithmetic expression evaluation in Python\n",
    "- Convert time from minutes to hours using Python\n",
    "- Explore various open-source tools used in data science development environments"
   ]
  },
  {
   "cell_type": "markdown",
   "metadata": {},
   "source": [
    "### Three commonly used programming languages for data science are:\n",
    "\n",
    "1. **Python**:  \n",
    "   Python is the most popular language for data science due to its simplicity, readability, and extensive ecosystem of libraries and tools. Libraries such as **Pandas**, **NumPy**, **Matplotlib**, **Scikit-learn**, and **TensorFlow** make Python ideal for tasks ranging from data manipulation and analysis to machine learning and deep learning.\n",
    "\n",
    "2. **R**:  \n",
    "   R is highly favored in academia and statistical analysis. It offers a vast collection of packages, like **ggplot2** and **dplyr**, which are specialized for data visualization and manipulation. R is also great for statistical modeling and hypothesis testing.\n",
    "\n",
    "3. **SQL**:  \n",
    "   SQL (Structured Query Language) is essential for managing and querying large datasets stored in databases. Data scientists often use SQL to extract data from relational databases, perform joins, and aggregate data, which is then analyzed further in Python or R."
   ]
  },
  {
   "cell_type": "markdown",
   "metadata": {},
   "source": [
    "### Three Popular Data Science Libraries\n",
    "\n",
    "1. **Pandas**: A powerful Python library for data manipulation and analysis, offering data structures like DataFrames to work with structured data easily.\n",
    "   \n",
    "2. **NumPy**: A foundational package for numerical computing in Python, providing support for arrays, matrices, and high-level mathematical functions.\n",
    "\n",
    "3. **Matplotlib**: A versatile plotting library for Python, used for creating static, animated, and interactive visualizations in data analysis."
   ]
  },
  {
   "cell_type": "markdown",
   "metadata": {},
   "source": [
    "### Data Science Tools\n",
    "\n",
    "| Data Science Tools         |\n",
    "|----------------------------|\n",
    "| Jupyter Notebook            |\n",
    "| RStudio                     |\n",
    "| Apache Zeppelin             |\n"
   ]
  },
  {
   "cell_type": "markdown",
   "metadata": {},
   "source": [
    "### Below are a few examples of evaluating arithmetic expressions in Python.\n"
   ]
  },
  {
   "cell_type": "markdown",
   "metadata": {},
   "source": [
    "This a simple arithmetic expression to mutiply then add integers."
   ]
  },
  {
   "cell_type": "code",
   "execution_count": 2,
   "metadata": {},
   "outputs": [
    {
     "data": {
      "text/plain": [
       "17"
      ]
     },
     "execution_count": 2,
     "metadata": {},
     "output_type": "execute_result"
    }
   ],
   "source": [
    "(3*4)+5"
   ]
  },
  {
   "cell_type": "markdown",
   "metadata": {},
   "source": [
    "This will convert 200 minutes to hours by diving by 60"
   ]
  },
  {
   "cell_type": "code",
   "execution_count": 3,
   "metadata": {},
   "outputs": [
    {
     "data": {
      "text/plain": [
       "3.3333333333333335"
      ]
     },
     "execution_count": 3,
     "metadata": {},
     "output_type": "execute_result"
    }
   ],
   "source": [
    "minutes = 200\n",
    "hours = minutes / 60\n",
    "hours"
   ]
  }
 ],
 "metadata": {
  "kernelspec": {
   "display_name": "Python 3 (ipykernel)",
   "language": "python",
   "name": "python3"
  },
  "language_info": {
   "codemirror_mode": {
    "name": "ipython",
    "version": 3
   },
   "file_extension": ".py",
   "mimetype": "text/x-python",
   "name": "python",
   "nbconvert_exporter": "python",
   "pygments_lexer": "ipython3",
   "version": "3.11.9"
  }
 },
 "nbformat": 4,
 "nbformat_minor": 4
}
